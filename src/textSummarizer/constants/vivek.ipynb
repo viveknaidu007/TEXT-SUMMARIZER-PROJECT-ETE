{
 "cells": [
  {
   "cell_type": "code",
   "execution_count": 1,
   "metadata": {},
   "outputs": [
    {
     "name": "stdout",
     "output_type": "stream",
     "text": [
      "The file 'config\\config.yaml' does not exist or is not accessible.\n",
      "The file 'params.yaml' does not exist or is not accessible.\n"
     ]
    }
   ],
   "source": [
    "from pathlib import Path\n",
    "\n",
    "CONFIG_FILE_PATH = Path(\"config\\config.yaml\")\n",
    "PARAMS_FILE_PATH = Path(\"params.yaml\")\n",
    "\n",
    "from pathlib import Path\n",
    "\n",
    "CONFIG_FILE_PATH = Path(\"config/config.yaml\")\n",
    "PARAMS_FILE_PATH = Path(\"params.yaml\")\n",
    "\n",
    "def check_file_accessibility(file_path):\n",
    "    if file_path.exists():\n",
    "        print(f\"The file '{file_path}' exists and is accessible.\")\n",
    "    else:\n",
    "        print(f\"The file '{file_path}' does not exist or is not accessible.\")\n",
    "\n",
    "# Check accessibility for CONFIG_FILE_PATH\n",
    "check_file_accessibility(CONFIG_FILE_PATH)\n",
    "\n",
    "# Check accessibility for PARAMS_FILE_PATH\n",
    "check_file_accessibility(PARAMS_FILE_PATH)\n"
   ]
  },
  {
   "cell_type": "code",
   "execution_count": 2,
   "metadata": {},
   "outputs": [
    {
     "name": "stdout",
     "output_type": "stream",
     "text": [
      "The URL 'https://github.com/viveknaidu007/branching_tutorials/blob/main/summarizer-data.zip' is accessible.\n"
     ]
    }
   ],
   "source": [
    "import requests\n",
    "\n",
    "def check_url_accessibility(url):\n",
    "    try:\n",
    "        response = requests.head(url)\n",
    "        if response.status_code == 200:\n",
    "            print(f\"The URL '{url}' is accessible.\")\n",
    "        else:\n",
    "            print(f\"Failed to access the URL. Status code: {response.status_code}\")\n",
    "    except requests.ConnectionError:\n",
    "        print(f\"Failed to connect to the URL '{url}'.\")\n",
    "\n",
    "# Assuming you have the source_URL defined in your configuration\n",
    "source_URL = \"https://github.com/viveknaidu007/branching_tutorials/blob/main/summarizer-data.zip\"\n",
    "\n",
    "# Call the function to check the source URL\n",
    "check_url_accessibility(source_URL)\n"
   ]
  }
 ],
 "metadata": {
  "kernelspec": {
   "display_name": "mlproj",
   "language": "python",
   "name": "python3"
  },
  "language_info": {
   "codemirror_mode": {
    "name": "ipython",
    "version": 3
   },
   "file_extension": ".py",
   "mimetype": "text/x-python",
   "name": "python",
   "nbconvert_exporter": "python",
   "pygments_lexer": "ipython3",
   "version": "3.8.18"
  }
 },
 "nbformat": 4,
 "nbformat_minor": 2
}
